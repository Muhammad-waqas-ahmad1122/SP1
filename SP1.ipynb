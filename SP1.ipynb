{
 "cells": [
  {
   "cell_type": "code",
   "execution_count": 1,
   "metadata": {},
   "outputs": [
    {
     "name": "stdout",
     "output_type": "stream",
     "text": [
      "flopy is installed in C:\\Anaconda3\\lib\\site-packages\\flopy\n"
     ]
    }
   ],
   "source": [
    "#-- Importing modules\n",
    "import flopy\n",
    "import numpy as np\n",
    "import pandas as pd\n",
    "import flopy.modflow as fpm\n",
    "import flopy.utils as fpu\n",
    "import flopy.mt3d as mt"
   ]
  },
  {
   "cell_type": "code",
   "execution_count": 2,
   "metadata": {},
   "outputs": [],
   "source": [
    "#-- Defining boundries for DIS package\n",
    "Lx = 5000\n",
    "Ly = 10000\n",
    "nrow = 100\n",
    "ncol = 100\n",
    "top = 0\n",
    "botm = -10\n",
    "nlay = 1\n",
    "delr = Ly / ncol\n",
    "delc = Lx / nrow\n",
    "delv = (top - botm) / nlay\n",
    "perlen = 20"
   ]
  },
  {
   "cell_type": "code",
   "execution_count": 3,
   "metadata": {},
   "outputs": [
    {
     "data": {
      "text/plain": [
       "array([[30., 64.],\n",
       "       [31., 53.],\n",
       "       [23., 43.],\n",
       "       [31., 34.],\n",
       "       [ 1., 25.],\n",
       "       [35., 23.],\n",
       "       [ 1., 16.],\n",
       "       [33., 15.],\n",
       "       [ 1.,  5.],\n",
       "       [26.,  4.],\n",
       "       [37.,  1.],\n",
       "       [32., 65.],\n",
       "       [33., 53.],\n",
       "       [28.,  5.],\n",
       "       [30., 65.]])"
      ]
     },
     "execution_count": 3,
     "metadata": {},
     "output_type": "execute_result"
    }
   ],
   "source": [
    "#--importing data file\n",
    "df= pd.read_csv(\"coord.csv\")\n",
    "df[\"x/delr\"] = ((df[\"x\"] /delc)-1).round(decimals=0)\n",
    "df[\"y/delc\"] = ((df[\"y\"] /delr)-1).round(decimals=0)\n",
    "df = df.drop([\"x\", \"y\"], axis = 1)\n",
    "df= df.rename_axis('ID').values\n",
    "df"
   ]
  },
  {
   "cell_type": "code",
   "execution_count": 4,
   "metadata": {},
   "outputs": [],
   "source": [
    "#--Generating model name\n",
    "model_name = 'Draft_SP'\n",
    "mf = flopy.modflow.Modflow(model_name, exe_name='mf2005')"
   ]
  },
  {
   "cell_type": "code",
   "execution_count": 5,
   "metadata": {},
   "outputs": [],
   "source": [
    "disc = flopy.modflow.ModflowDis(mf, nlay, nrow, ncol, delr=delr, delc=delc,\n",
    "                               top=top, botm = botm, perlen = perlen, nstp = 1)"
   ]
  },
  {
   "cell_type": "code",
   "execution_count": 6,
   "metadata": {},
   "outputs": [],
   "source": [
    "#--Output Control\n",
    "spd = {(0, 0): ['print head', 'print budget', 'save head', 'save budget']}\n",
    "oc = flopy.modflow.ModflowOc(mf, stress_period_data=spd, compact=True)"
   ]
  },
  {
   "cell_type": "code",
   "execution_count": 7,
   "metadata": {},
   "outputs": [],
   "source": [
    "#--BCF File\n",
    "laycon = 0 #Confined\n",
    "tran = 1\n",
    "bcf = flopy.modflow.mfbcf.ModflowBcf(mf, laycon = 0, tran = 1)"
   ]
  },
  {
   "cell_type": "code",
   "execution_count": 8,
   "metadata": {},
   "outputs": [],
   "source": [
    "#--Defining Head Boundary Conditions\n",
    "ibound = np.ones((nlay, nrow, ncol), dtype=np.int32)\n",
    "ibound[:, :, 0] = -1\n",
    "ibound[:, :, -1] = -1\n",
    "strt = np.ones((nlay, nrow, ncol), dtype=np.float32)\n",
    "strt[:, :, 0] = 10.\n",
    "strt[:, :, -1] = 10.\n",
    "bas = flopy.modflow.ModflowBas(mf, ibound=ibound, strt=strt)"
   ]
  },
  {
   "cell_type": "code",
   "execution_count": 9,
   "metadata": {},
   "outputs": [],
   "source": [
    "#-- PCG File\n",
    "pcg = flopy.modflow.mfpcg.ModflowPcg(mf, mxiter = 20, iter1 = 30)"
   ]
  },
  {
   "cell_type": "code",
   "execution_count": 10,
   "metadata": {
    "scrolled": false
   },
   "outputs": [],
   "source": [
    "#chd\n",
    "#[layer, row, column, shead, ehead]\n",
    "\n",
    "chd = 10\n",
    "chd_data = []\n",
    "for c in range(99):\n",
    "    dd = np.array([0, 0, c, chd, chd])\n",
    "    chd_data.append(dd)\n",
    "for c in range(100):\n",
    "    dd = np.array([0, c, 99, chd, chd])\n",
    "    chd_data.append(dd)\n",
    "for c in range(99):\n",
    "    dd = np.array([0, 99, c, chd, chd])\n",
    "    chd_data.append(dd)\n",
    "for c in range(1, 99):\n",
    "    dd = np.array([0, c, 0, chd, chd])\n",
    "    chd_data.append(dd)\n",
    "stress_period = {0:chd_data}\n",
    "#stress_period"
   ]
  },
  {
   "cell_type": "code",
   "execution_count": 11,
   "metadata": {},
   "outputs": [],
   "source": [
    "chd = flopy.modflow.ModflowChd(mf, stress_period_data = stress_period)"
   ]
  },
  {
   "cell_type": "code",
   "execution_count": 12,
   "metadata": {},
   "outputs": [
    {
     "name": "stdout",
     "output_type": "stream",
     "text": [
      "[[0, 30.0, 64.0, 1e-05], [0, 31.0, 53.0, 1e-05], [0, 23.0, 43.0, 1e-05], [0, 31.0, 34.0, 1e-05], [0, 1.0, 25.0, 1e-05], [0, 35.0, 23.0, 1e-05], [0, 1.0, 16.0, 1e-05], [0, 33.0, 15.0, 1e-05], [0, 1.0, 5.0, 1e-05], [0, 26.0, 4.0, 1e-05], [0, 37.0, 1.0, 1e-05], [0, 32.0, 65.0, 1e-05], [0, 33.0, 53.0, 1e-05], [0, 28.0, 5.0, 1e-05], [0, 30.0, 65.0, 1e-05]]\n"
     ]
    }
   ],
   "source": [
    "#-- Defining Well Package\n",
    "\n",
    "injection_rate = 0.00001\n",
    "first_val = 0\n",
    "wel_temp = []\n",
    "for x in enumerate(df):\n",
    "    temp_val = [first_val ,  x[1][0] , x[1][1] , injection_rate]\n",
    "    wel_temp.append(temp_val)\n",
    "\n",
    "print(wel_temp)\n",
    "lrcQ = {0 :wel_temp}\n"
   ]
  },
  {
   "cell_type": "code",
   "execution_count": 13,
   "metadata": {},
   "outputs": [
    {
     "data": {
      "text/plain": [
       "\n",
       "    MODFLOW Well Package Class.\n",
       "\n",
       "    Parameters\n",
       "    ----------\n",
       "    model : model object\n",
       "        The model object (of type :class:`flopy.modflow.mf.Modflow`) to which\n",
       "        this package will be added.\n",
       "    ipakcb : int\n",
       "        A flag that is used to determine if cell-by-cell budget data should be\n",
       "        saved. If ipakcb is non-zero cell-by-cell budget data will be saved.\n",
       "        (default is 0).\n",
       "    stress_period_data : list of boundaries, or recarray of boundaries, or\n",
       "        dictionary of boundaries\n",
       "        Each well is defined through definition of\n",
       "        layer (int), row (int), column (int), flux (float).\n",
       "        The simplest form is a dictionary with a lists of boundaries for each\n",
       "        stress period, where each list of boundaries itself is a list of\n",
       "        boundaries. Indices of the dictionary are the numbers of the stress\n",
       "        period. This gives the form of:\n",
       "\n",
       "            stress_period_data =\n",
       "            {0: [\n",
       "                [lay, row, col, flux],\n",
       "                [lay, row, col, flux],\n",
       "                [lay, row, col, flux]\n",
       "                ],\n",
       "            1:  [\n",
       "                [lay, row, col, flux],\n",
       "                [lay, row, col, flux],\n",
       "                [lay, row, col, flux]\n",
       "                ], ...\n",
       "            kper:\n",
       "                [\n",
       "                [lay, row, col, flux],\n",
       "                [lay, row, col, flux],\n",
       "                [lay, row, col, flux]\n",
       "                ]\n",
       "            }\n",
       "\n",
       "        Note that if the number of lists is smaller than the number of stress\n",
       "        periods, then the last list of wells will apply until the end of the\n",
       "        simulation. Full details of all options to specify stress_period_data\n",
       "        can be found in the flopy3 boundaries Notebook in the basic\n",
       "        subdirectory of the examples directory\n",
       "    dtype : custom datatype of stress_period_data.\n",
       "        If None the default well datatype will be applied (default is None).\n",
       "    extension : string\n",
       "        Filename extension (default is 'wel')\n",
       "    options : list of strings\n",
       "        Package options (default is None).\n",
       "    unitnumber : int\n",
       "        File unit number (default is None).\n",
       "    filenames : str or list of str\n",
       "        Filenames to use for the package and the output files. If\n",
       "        filenames=None the package name will be created using the model name\n",
       "        and package extension and the cbc output name will be created using\n",
       "        the model name and .cbc extension (for example, modflowtest.cbc),\n",
       "        if ipakcbc is a number greater than zero. If a single string is passed\n",
       "        the package will be set to the string and cbc output names will be\n",
       "        created using the model name and .cbc extension, if ipakcbc is a\n",
       "        number greater than zero. To define the names for all package files\n",
       "        (input and output) the length of the list of strings should be 2.\n",
       "        Default is None.\n",
       "\n",
       "    Attributes\n",
       "    ----------\n",
       "    mxactw : int\n",
       "        Maximum number of wells for a stress period.  This is calculated\n",
       "        automatically by FloPy based on the information in\n",
       "        stress_period_data.\n",
       "\n",
       "    Methods\n",
       "    -------\n",
       "\n",
       "    See Also\n",
       "    --------\n",
       "\n",
       "    Notes\n",
       "    -----\n",
       "    Parameters are not supported in FloPy.\n",
       "\n",
       "    Examples\n",
       "    --------\n",
       "\n",
       "    >>> import flopy\n",
       "    >>> m = flopy.modflow.Modflow()\n",
       "    >>> lrcq = {0:[[2, 3, 4, -100.]], 1:[[2, 3, 4, -100.]]}\n",
       "    >>> wel = flopy.modflow.ModflowWel(m, stress_period_data=lrcq)\n",
       "\n",
       "     _name = WEL\n",
       " _parent = MODFLOW 1 layer(s) 100 row(s) 100 column(s) 1 stress period(s) ('flopy.modflow.mf.Modflow)\n",
       " acceptable_dtypes (list, items = 3)\n",
       " allowDuplicates = False ('bool)\n",
       " dtype = [('k', '<i4'), ('i', '<i4'), ('j', '<i4'), ('flux', '<f4')] ('numpy.dtype)\n",
       " extra = \n",
       " file_name = Draft_SP.wel\n",
       " fn_path = .\\Draft_SP.wel ('str)\n",
       " ipakcb = 0 ('int)\n",
       " iunitramp = None ('NoneType)\n",
       " np = 0 ('int)\n",
       " options (list, items = 0)\n",
       " phiramp = None ('NoneType)\n",
       " specify = False ('bool)\n",
       " stress_period_data = <flopy.utils.util_list.MfList object at 0x000001AB8956CAC8> ('flopy.utils.util_list.MfList)\n",
       " unit_number = 20"
      ]
     },
     "execution_count": 13,
     "metadata": {},
     "output_type": "execute_result"
    }
   ],
   "source": [
    "fpm.ModflowWel(mf, stress_period_data=lrcQ)"
   ]
  },
  {
   "cell_type": "code",
   "execution_count": 14,
   "metadata": {},
   "outputs": [],
   "source": [
    "#-- Linkag with mt3d\n",
    "lmt = flopy.modflow.ModflowLmt(mf, output_file_name = 'mt3d_link.ftl')"
   ]
  },
  {
   "cell_type": "code",
   "execution_count": 15,
   "metadata": {},
   "outputs": [
    {
     "name": "stdout",
     "output_type": "stream",
     "text": [
      "FloPy is using the following  executable to run the model: C:\\WRDAPP\\mf2005.1\\bin\\mf2005.EXE\n",
      "\n",
      "                                  MODFLOW-2005     \n",
      "    U.S. GEOLOGICAL SURVEY MODULAR FINITE-DIFFERENCE GROUND-WATER FLOW MODEL\n",
      "                             Version 1.12.00 2/3/2017                        \n",
      "\n",
      " Using NAME file: Draft_SP.nam \n",
      " Run start date and time (yyyy/mm/dd hh:mm:ss): 2020/09/04 15:33:51\n",
      "\n",
      " Solving:  Stress period:     1    Time step:     1    Ground-Water Flow Eqn.\n",
      " Run end date and time (yyyy/mm/dd hh:mm:ss): 2020/09/04 15:33:51\n",
      " Elapsed run time:  0.120 Seconds\n",
      "\n",
      "  Normal termination of simulation\n"
     ]
    },
    {
     "data": {
      "text/plain": [
       "(True, [])"
      ]
     },
     "execution_count": 15,
     "metadata": {},
     "output_type": "execute_result"
    }
   ],
   "source": [
    "#--Writing Input Files\n",
    "mf.write_input()\n",
    "#--And to run the model\n",
    "mf.run_model()"
   ]
  },
  {
   "cell_type": "code",
   "execution_count": 16,
   "metadata": {},
   "outputs": [
    {
     "name": "stderr",
     "output_type": "stream",
     "text": [
      "C:\\Anaconda3\\lib\\site-packages\\ipykernel_launcher.py:11: UserWarning: No contour levels were found within the data range.\n",
      "  # This is added back by InteractiveShellApp.init_path()\n"
     ]
    },
    {
     "data": {
      "text/plain": [
       "<matplotlib.axes._subplots.AxesSubplot at 0x1ab89588108>"
      ]
     },
     "execution_count": 16,
     "metadata": {},
     "output_type": "execute_result"
    },
    {
     "data": {
      "image/png": "[encoded data removed]",
      "text/plain": [
       "<Figure size 432x288 with 1 Axes>"
      ]
     },
     "metadata": {
      "needs_background": "light"
     },
     "output_type": "display_data"
    }
   ],
   "source": [
    "#To Plot Model Reults\n",
    "#To Plot Model Reults\n",
    "import matplotlib.pyplot as plt\n",
    "import flopy.utils.binaryfile as bf\n",
    "\n",
    "#To creat the headfile object\n",
    "headobj = bf.HeadFile(model_name + '.hds')\n",
    "head = headobj.get_data(totim = 20)\n",
    "times = headobj.get_times()\n",
    "levels = np.linspace(1,2 , 3)\n",
    "plt.contour(head[0, :, :], levels = levels)\n",
    "plt.subplot(1,1,1, aspect = 'equal')"
   ]
  },
  {
   "cell_type": "code",
   "execution_count": 17,
   "metadata": {},
   "outputs": [],
   "source": [
    "#MT3D-USGS\n",
    "namemt3d='modelnamemt3d'\n",
    "mt_model = mt.Mt3dms(modelname=namemt3d, version='mt3d-usgs', exe_name='MT3D-USGS_64.exe', modflowmodel=mf)"
   ]
  },
  {
   "cell_type": "code",
   "execution_count": 18,
   "metadata": {},
   "outputs": [],
   "source": [
    "icbund = np.ones((nlay, nrow, ncol))\n",
    "icbund[0, 30, 64] = -1\n",
    "#icbund[0, 31, 53] = -1\n",
    "#icbund[0, 23, 43] = -1\n",
    "#icbund[0, 31, 34] = -1\n",
    "#icbund[0, 1, 25] = -1\n",
    "#icbund[0, 35, 23] = -1\n",
    "#icbund[0, 1, 16] = -1\n",
    "#icbund[0, 33, 15] = -1\n",
    "#icbund[0, 1, 5] = -1\n",
    "#icbund[0, 26, 4] = -1\n",
    "#icbund[0, 37, 1] = -1\n",
    "#icbund[0, 32, 65] = -1\n",
    "#icbund[0, 33, 53] = -1\n",
    "#icbund[0, 28, 5] = -1\n",
    "#icbund[0, 30, 65] = -1"
   ]
  },
  {
   "cell_type": "code",
   "execution_count": 19,
   "metadata": {},
   "outputs": [],
   "source": [
    "btn = flopy.mt3d.Mt3dBtn(mt_model, sconc=0.0, prsity=0.3, thkmin=0.01, munit='g', icbund=icbund)"
   ]
  },
  {
   "cell_type": "code",
   "execution_count": 20,
   "metadata": {},
   "outputs": [],
   "source": [
    "#ADV file\n",
    "mixelm = -1 # Advection solution option\n",
    "percel = 1 # Courant number\n",
    "adv = flopy.mt3d.Mt3dAdv(mt_model, mixelm=mixelm, percel=percel)"
   ]
  },
  {
   "cell_type": "code",
   "execution_count": 21,
   "metadata": {},
   "outputs": [],
   "source": [
    "#GCG file\n",
    "mxiter = 1 # Number of Outer Iterations\n",
    "iter1 = 200 # Number of inner Iterations\n",
    "isolve = 3  # Modified Incomplete Cholesky\n",
    "gcg = flopy.mt3d.Mt3dGcg(mt_model, mxiter=mxiter, iter1=iter1, isolve=isolve)"
   ]
  },
  {
   "cell_type": "code",
   "execution_count": 22,
   "metadata": {},
   "outputs": [],
   "source": [
    "#DSP file\n",
    "al = 10 \n",
    "dmcoef = 0 \n",
    "trpt = 0.1 \n",
    "trpv = 0.01\n"
   ]
  },
  {
   "cell_type": "code",
   "execution_count": 23,
   "metadata": {},
   "outputs": [],
   "source": [
    "dsp = mt.Mt3dDsp(mt_model, al=al, dmcoef=dmcoef, trpt=trpt, trpv=trpv)"
   ]
  },
  {
   "cell_type": "code",
   "execution_count": 24,
   "metadata": {},
   "outputs": [],
   "source": [
    "#SSM file\n",
    "itype = flopy.mt3d.Mt3dSsm.itype_dict\n",
    "ssm_data = {}\n",
    "ssm_data[0] = [(0, 30, 64, 1.0, 2)]\n",
    "ssm_data[0].append((0, 30, 64, 1.0, -1))\n",
    "ssm = flopy.mt3d.Mt3dSsm(mt_model, stress_period_data=ssm_data)"
   ]
  },
  {
   "cell_type": "code",
   "execution_count": 25,
   "metadata": {},
   "outputs": [
    {
     "name": "stdout",
     "output_type": "stream",
     "text": [
      "FloPy is using the following  executable to run the model: C:\\Anaconda3\\mt3dusgs1.1.0\\bin\\MT3D-USGS_64.exe\n",
      "\n",
      " MT3D-USGS - Modular 3D Multi-Species Transport Model [Ver 1.1.0]   \n",
      " and based on MT3DMS. MT3D-USGS developed in cooperation by \n",
      " S.S. Papadopulos & Associates and the U.S. Geological Survey\n",
      "\n",
      " Using NAME File: modelnamemt3d.nam\n",
      "\n",
      " STRESS PERIOD NO.    1\n",
      "\n",
      " TIME STEP NO.    1\n",
      " FROM TIME =   0.0000     TO    20.000    \n",
      "\n",
      " Transport Step:    1   Step Size:   20.00     Total Elapsed Time:   20.000    \n",
      " Outer Iter.  1  Inner Iter.  1:  Max. DC =  0.1324E-08  [K,I,J]    1   30   65\n",
      "\n",
      " Program completed.   Total CPU time:  000 minutes  0.062 seconds\n"
     ]
    },
    {
     "data": {
      "text/plain": [
       "(False, [])"
      ]
     },
     "execution_count": 25,
     "metadata": {},
     "output_type": "execute_result"
    }
   ],
   "source": [
    "#Write model input\n",
    "mt_model.write_input()\n",
    "\n",
    "#Run the model\n",
    "mt_model.run_model()"
   ]
  },
  {
   "cell_type": "code",
   "execution_count": 26,
   "metadata": {},
   "outputs": [
    {
     "data": {
      "image/png": "[encoded data removed]",
      "text/plain": [
       "<Figure size 432x288 with 2 Axes>"
      ]
     },
     "metadata": {
      "needs_background": "light"
     },
     "output_type": "display_data"
    }
   ],
   "source": [
    "import flopy.utils as fu\n",
    "conc = fu.UcnFile('MT3D001.UCN')\n",
    "conc.plot(totim=times[-1], colorbar='Concentration (mg/l)', cmap='Greens')\n",
    "plt.title('Concentration distribution (mg/l)')\n",
    "plt.show()"
   ]
  },
  {
   "cell_type": "code",
   "execution_count": null,
   "metadata": {},
   "outputs": [],
   "source": []
  }
 ],
 "metadata": {
  "kernelspec": {
   "display_name": "Python 3",
   "language": "python",
   "name": "python3"
  },
  "language_info": {
   "codemirror_mode": {
    "name": "ipython",
    "version": 3
   },
   "file_extension": ".py",
   "mimetype": "text/x-python",
   "name": "python",
   "nbconvert_exporter": "python",
   "pygments_lexer": "ipython3",
   "version": "3.7.6"
  }
 },
 "nbformat": 4,
 "nbformat_minor": 4
}
